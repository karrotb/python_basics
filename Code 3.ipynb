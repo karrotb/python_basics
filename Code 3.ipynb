{
 "cells": [
  {
   "cell_type": "code",
   "execution_count": 2,
   "id": "f9a2f6f2",
   "metadata": {},
   "outputs": [
    {
     "name": "stdout",
     "output_type": "stream",
     "text": [
      "Please enter your name:kjnkn\n",
      "Hello, kjnkn! Nice to meet you.\n"
     ]
    }
   ],
   "source": [
    "#1\n",
    "name= str(input(\"Please enter your name: \"))\n",
    "print((\"Hello, \")+(name)+(\"! Nice to meet you.\"))"
   ]
  },
  {
   "cell_type": "code",
   "execution_count": 7,
   "id": "f5ea14d4",
   "metadata": {},
   "outputs": [
    {
     "name": "stdout",
     "output_type": "stream",
     "text": [
      "Please enter any word: erhxtrjklmlkwe\n",
      "Your word reversed: ewklmlkjrtxhre\n"
     ]
    }
   ],
   "source": [
    "#2\n",
    "word= str(input(\"Please enter any word: \"))\n",
    "reverse= word[::-1]\n",
    "print((\"Your word, reversed: \")+reverse)"
   ]
  },
  {
   "cell_type": "code",
   "execution_count": 13,
   "id": "e6bf5040",
   "metadata": {},
   "outputs": [
    {
     "name": "stdout",
     "output_type": "stream",
     "text": [
      "Please enter a sentence: lknlkn ljnl. l l\n",
      "Your sentence has 16 characters\n"
     ]
    }
   ],
   "source": [
    "#3\n",
    "sentence= len(str(input(\"Please enter a sentence: \")))\n",
    "print((\"Your sentence has \")+str(sentence)+(\" characters\"))"
   ]
  },
  {
   "cell_type": "code",
   "execution_count": 16,
   "id": "ee8da89e",
   "metadata": {},
   "outputs": [
    {
     "name": "stdout",
     "output_type": "stream",
     "text": [
      "Please enter any word or sentence: I have a big stick and I will throw it soon\n",
      "Number of vowels: 13\n"
     ]
    }
   ],
   "source": [
    "#4\n",
    "phrase= str(input(\"Please enter any word or sentence: \"))\n",
    "n = 0\n",
    "n = n + phrase.count(\"a\")\n",
    "n = n + phrase.count(\"A\")\n",
    "n = n + phrase.count(\"e\")\n",
    "n = n + phrase.count(\"E\")\n",
    "n = n + phrase.count(\"i\")\n",
    "n = n + phrase.count(\"I\")\n",
    "n = n + phrase.count(\"o\")\n",
    "n = n + phrase.count(\"O\")\n",
    "n = n + phrase.count(\"u\")\n",
    "n = n + phrase.count(\"U\")\n",
    "print((\"Number of vowels: \")+str(n))"
   ]
  },
  {
   "cell_type": "code",
   "execution_count": 31,
   "id": "aadae05b",
   "metadata": {},
   "outputs": [
    {
     "name": "stdout",
     "output_type": "stream",
     "text": [
      "Please enter a word: fort\n",
      "The word is not a palindrome.\n"
     ]
    }
   ],
   "source": [
    "#5\n",
    "Word= str(input(\"Please enter a word: \"))\n",
    "word= Word.lower()\n",
    "if word== word[::-1]:\n",
    "    print(\"The word is a palindrome.\")\n",
    "else: print(\"The word is not a palindrome.\")"
   ]
  },
  {
   "cell_type": "code",
   "execution_count": 35,
   "id": "1cbe34eb",
   "metadata": {},
   "outputs": [
    {
     "name": "stdout",
     "output_type": "stream",
     "text": [
      "Please enter your secret message: cracker barrel.\n",
      "Encrypted secret message: CRACKER_BARREL.\n"
     ]
    }
   ],
   "source": [
    "#6\n",
    "message= (str(input(\"Please enter your secret message: \")))\n",
    "uppercase= message.upper()\n",
    "secret= uppercase.replace(\" \",\"_\")\n",
    "print((\"Encrypted secret message: \")+secret)"
   ]
  },
  {
   "cell_type": "code",
   "execution_count": null,
   "id": "c29f780f",
   "metadata": {},
   "outputs": [],
   "source": []
  }
 ],
 "metadata": {
  "kernelspec": {
   "display_name": "Python 3 (ipykernel)",
   "language": "python",
   "name": "python3"
  },
  "language_info": {
   "codemirror_mode": {
    "name": "ipython",
    "version": 3
   },
   "file_extension": ".py",
   "mimetype": "text/x-python",
   "name": "python",
   "nbconvert_exporter": "python",
   "pygments_lexer": "ipython3",
   "version": "3.11.4"
  }
 },
 "nbformat": 4,
 "nbformat_minor": 5
}
