#1
name= str(input("Please enter your name: "))
print(("Hello, ")+(name)+("! Nice to meet you."))

#2
word= str(input("Please enter any word: "))
reverse= word[::-1]
print(("Your word, reversed: ")+reverse)

#3
sentence= len(str(input("Please enter a sentence: ")))
print(("Your sentence has ")+str(sentence)+(" characters"))

#4
phrase= str(input("Please enter any word or sentence: "))
n = 0
n = n + phrase.count("a")
n = n + phrase.count("A")
n = n + phrase.count("e")
n = n + phrase.count("E")
n = n + phrase.count("i")
n = n + phrase.count("I")
n = n + phrase.count("o")
n = n + phrase.count("O")
n = n + phrase.count("u")
n = n + phrase.count("U")
print(("Number of vowels: ")+str(n))

#5
Word= str(input("Please enter a word: "))
word= Word.lower()
if word== word[::-1]:
    print("The word is a palindrome.")
else: print("The word is not a palindrome.")

#6
message= (str(input("Please enter your secret message: ")))
uppercase= message.upper()
secret= uppercase.replace(" ","_")
print(("Encrypted secret message: ")+secret)
